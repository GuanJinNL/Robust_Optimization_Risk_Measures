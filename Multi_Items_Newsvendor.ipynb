{
 "cells": [
  {
   "cell_type": "markdown",
   "id": "874e9933",
   "metadata": {},
   "source": [
    "As an extension of the single-item newsvendor problem, we study the multi-item problem where multiple items have their own uncertain demand. Let $d^{(j)}_{i}$ be the $i$-th realization of the $j$-th item's demand, where $i=1,2,3$. \n",
    "We assume that the demand takes on the same possible values for all items, i.e., $d^{(j)}_{i}\\in \\{4,8,10\\}$ for all $j$. \n",
    "We take $j=1,2,3$ and consider the sum of the individual profit functions\n",
    "\\begin{align}\n",
    "    \\pi_{\\mathrm{tot}}(\\mathbf{d},\\mathbf{y})=\\pi_1(d^{(1)},y_1)+\\pi_2(d^{(2)},y_2)+\\pi_3(d^{(3)},y_3),\n",
    "\\end{align}\n",
    "where\n",
    "\\begin{align}\n",
    "     \\pi_j(d^{(j)},y_j)&=v_j\\min\\{d^{(j)},y_j\\}+s_j(y_j-d^{(j)})_+-l_j(d^{(j)}-y_j)_+-c_jy_j,\n",
    "\\end{align}\n",
    "with $v_j,s_j,l_j,c_j$ the parameters corresponding to item $j$. Since each realization of $d^{(j)}$ contributes to a possible realization of $\\pi_{\\mathrm{tot}}(\\mathbf{d},\\mathbf{y})$, there are in total $N=3^3=27$ possible realizations. The worst-case risk evaluation minimization problem with Kullback-Leibler divergence and the $\\mathrm{CVaR}_{\\alpha}$ risk measure is formulated as:\n",
    "\\begin{align}\n",
    "\\begin{split}\n",
    "    \\min_{0\\leq y\\leq 10, t\\in \\mathbb{R}}\\left\\{t~ \\middle |~\n",
    "        \\sup_{(\\mathbf{q},\\mathbf{\\bar{q}})\\in \\mathcal{U}_{\\phi_{kl},h_{cv}}(\\mathbf{p})}-\\sum^{27}_{k=1}\\bar{q}_k\\pi_{\\mathrm{tot},k}(\\mathbf{y},\\mathbf{d})\\leq t\\right\\}.\n",
    "\\end{split}\n",
    "\\end{align}\n",
    "Here, $\\mathbf{p}\\in \\mathbb{R}^{27}$ and is determined by considering the probability of each combination of realizations of $(d^{(1)},d^{(2)},d^{(3)})$, which is the product of the probabilities $\\mathbf{p}^{(1)},\\mathbf{p}^{(2)},\\mathbf{p}^{(3)}$ of each individual realization. \n",
    "The parameters we used are given in the following table:\n",
    "\n",
    "\n",
    "| $\\mathrm{Item}(j)$ | 1    | 2   | 3   |\n",
    "|--------------------|------|-----|-----|\n",
    "| $c$                | 4    | 5   | 4   |\n",
    "| $v$                | 6    | 8   | 5   |\n",
    "| $s$                | 2    | 2.5 | 1.5 |\n",
    "| $l$                | 4    | 3   | 4   |\n",
    "\n",
    "\n",
    "Furthermore, the demand of each item $j$ has state probabilities: \n",
    "\\begin{align*}\n",
    "\\mathbf{p}^{(1)}=(0.375,0.375,0.25),~\\mathbf{p}^{(2)}=(0.25, 0.25,0.5),~\\mathbf{p}^{(3)}=(0.127,0.786,0.087).\n",
    "\\end{align*}\n",
    "The nominal problem is the following problem with respect to the nominal probability vector $\\mathbf{p}$:\n",
    "\\begin{align}\n",
    "\\begin{split}\n",
    "    \\min_{0\\leq y\\leq 10, t\\in \\mathbb{R}}\\left\\{t~\\middle |~\n",
    "        \\sup_{\\mathbf{\\bar{q}}\\in M_{h_{cv}}(\\mathbf{p})}-\\sum^{27}_{k=1}\\bar{q}_k\\pi_{\\mathrm{tot},k}(\\mathbf{y},\\mathbf{d})\\leq t\\right\\}.\n",
    "\\end{split}\n",
    "\\end{align}"
   ]
  },
  {
   "cell_type": "code",
   "execution_count": 2,
   "id": "0581c04b",
   "metadata": {},
   "outputs": [],
   "source": [
    "import numpy as np\n",
    "import pandas as pd\n",
    "import cvxpy as cp\n",
    "import mosek\n",
    "import matplotlib.pyplot as plt\n",
    "import scipy.stats\n",
    "from scipy.stats import rankdata\n",
    "import distortion_function as hf\n",
    "import phi_divergence as phi\n",
    "import Hit_and_Run as hr\n",
    "import itertools as itertools"
   ]
  },
  {
   "cell_type": "markdown",
   "id": "6ec582c4-e18b-464c-848f-31ac53cfdd29",
   "metadata": {},
   "source": [
    "The following code solves both the robust and the nominal problem."
   ]
  },
  {
   "cell_type": "code",
   "execution_count": 3,
   "id": "6c737d16",
   "metadata": {},
   "outputs": [],
   "source": [
    "def r_obj(d,y,par_news):\n",
    "    [v_news, l_news, s_news, c_news] = par_news\n",
    "    return((s_news-v_news)*cp.pos(y-d)-l_news*cp.pos(d-y)+(v_news-c_news)*y)\n",
    "\n",
    "def mnews_affine_riskmin(p,d,r,indices,par_mnews,phi_conj,slope,const):\n",
    "    N = len(p)\n",
    "    I = len(par_mnews)\n",
    "    K = len(slope)\n",
    "    lbda = cp.Variable((N,K), nonneg = True)\n",
    "    y = cp.Variable(I, nonneg = True)\n",
    "    v = cp.Variable(K, nonneg = True)\n",
    "    alpha = cp.Variable(1)\n",
    "    beta = cp.Variable(1)\n",
    "    gamma = cp.Variable(1,nonneg = True)\n",
    "    t = cp.Variable(N)\n",
    "    s = cp.Variable(N)\n",
    "    c = cp.Variable(1)\n",
    "    w = cp.Variable(N)\n",
    "    constraints = [y<= np.max(d)]\n",
    "    for i in range(N):\n",
    "        r_profit = 0\n",
    "        for j in range(I):\n",
    "            r_profit = r_profit + r_obj(d[indices[i][j]],y[j],par_mnews[j])\n",
    "        if i == 0:\n",
    "            profit = r_profit\n",
    "        else:\n",
    "            profit = cp.hstack((profit, r_profit))\n",
    "    for i in range(N):\n",
    "        constraints.append(-profit[i] - cp.sum(lbda[i]) - beta <= 0)\n",
    "        constraints.append(s[i] == -alpha + lbda[i]@slope)\n",
    "        constraints.append(lbda[i] <= v)\n",
    "        constraints = phi_conj(gamma,s[i],t[i],w[i],constraints)\n",
    "    constraints.append(alpha + beta + gamma * r  + v@const + p@t <= c)\n",
    "    obj = cp.Minimize(c)\n",
    "    prob = cp.Problem(obj,constraints)\n",
    "    prob.solve(solver=cp.MOSEK)\n",
    "    return(y.value, c.value)"
   ]
  },
  {
   "cell_type": "code",
   "execution_count": 4,
   "id": "7ece6b76",
   "metadata": {},
   "outputs": [],
   "source": [
    "def r_obj_calc(d,y,par_news):\n",
    "    [v_news, l_news, s_news, c_news] = par_news\n",
    "    return((s_news-v_news)*np.maximum(y-d,0)-l_news*np.maximum(d-y,0)+(v_news-c_news)*y)\n",
    "\n",
    "### some technical function that converges a list to a set with certain properties\n",
    "def ranktoset (A):    \n",
    "    A = list(A)\n",
    "    sets = [[A[0]]]\n",
    "    for i in range(1,len(A)):\n",
    "        new = A[0:i+1]\n",
    "        sets.append(new)\n",
    "    return(sets)\n",
    "\n",
    "### This function calculates the worst-case risk evaluation given a solution.\n",
    "\n",
    "def robustcheck_riskmin(y,d,r,p,par,par_mnews,indices,h_func, phi_func):   \n",
    "    N = len(p)                                                              \n",
    "    profit_value = np.zeros(N)\n",
    "    for i in range(N):\n",
    "        for j in range(len(par_mnews)):\n",
    "            profit_value[i] = profit_value[i] + r_obj_calc(d[indices[i][j]],y[j],par_mnews[j])\n",
    "    rank = np.argsort(profit_value)\n",
    "    sets = ranktoset(rank)\n",
    "    q_b = cp.Variable(N, nonneg = True)\n",
    "    q = cp.Variable(N, nonneg=True)\n",
    "    constraints = [cp.sum(q) == 1, cp.sum(q_b)==1]\n",
    "    constraints = h_func(q_b,q,rank,par,constraints)\n",
    "    constraints = phi_func(p,q,r,par,constraints)\n",
    "    obj = cp.Maximize(-q_b.T @ profit_value)\n",
    "    prob = cp.Problem(obj,constraints)\n",
    "    prob.solve(solver=cp.MOSEK)\n",
    "    return(prob.value,q_b.value,q.value)"
   ]
  },
  {
   "cell_type": "markdown",
   "id": "ddc1e312-c368-4333-a0c6-3c1092735dbb",
   "metadata": {},
   "source": [
    "\n",
    "Defining the parameter values"
   ]
  },
  {
   "cell_type": "code",
   "execution_count": 17,
   "id": "2cafcb81-63b5-41ed-943a-c17e7689fcfb",
   "metadata": {},
   "outputs": [],
   "source": [
    "d = np.array([4,8,10])\n",
    "p_items = np.array([[0.375,0.375,0.25],[0.25,0.25,0.5],[0.127,0.786,0.087]])\n",
    "par_mnews = np.array([[6,4,2,4],[8,3,5,2.5],[5,4,1.5,4]])\n",
    "m = len(d)**len(p_items)\n",
    "### parameter for the distortion function, in the case of h_cv, this is the alpha_0 value\n",
    "par = 0.3 \n",
    "### second derivative phi'' of phi function evaluated at 1\n",
    "phi_dot = 1 \n",
    "\n",
    "## Defining the probability vector of all 27 events.\n",
    "indices = np.asarray(list((itertools.product((0, 1, 2), repeat = 3))))    \n",
    "p = np.zeros(m)                                                              \n",
    "for i in range(m):\n",
    "    p[i] = np.prod(p_items[np.arange(len(p_items)),indices[i]])"
   ]
  },
  {
   "cell_type": "markdown",
   "id": "d0815473-d21e-4118-ad42-675c73446e61",
   "metadata": {},
   "source": [
    "Defining the phi function and the distortion function. Since the distortion function $h_{cv}(p)=\\min\\{\\frac{p}{1-\\alpha_0},1\\}$ is a piecewise-linear function, we can solve both the robust problem and the nominal problem using the piecewise-linear approximation methode as described in the paper, which does not require any information of the conjugate of $h$."
   ]
  },
  {
   "cell_type": "code",
   "execution_count": 9,
   "id": "28f74e26-90e1-42ac-a780-66a29c78d4ef",
   "metadata": {},
   "outputs": [],
   "source": [
    "phi_conj = phi.kb_conj\n",
    "phi_func = phi.kb_cut\n",
    "\n",
    "### Defining the h function. Note that since h is piecewise-linear, h_conj is not needed.\n",
    "h_func = hf.h_cvar_cut   "
   ]
  },
  {
   "cell_type": "markdown",
   "id": "c9951d48",
   "metadata": {},
   "source": [
    "The following code performs the experiment of comparing the robust solution and the nominal solution with respect to the fictitious sample size that is assumed to estimate the nominal probability $\\mathbf{p}$. "
   ]
  },
  {
   "cell_type": "code",
   "execution_count": 18,
   "id": "8fa518af",
   "metadata": {},
   "outputs": [
    {
     "name": "stderr",
     "output_type": "stream",
     "text": [
      "C:\\Users\\gjin\\AppData\\Local\\Temp\\ipykernel_22384\\550894311.py:8: DeprecationWarning: Conversion of an array with ndim > 0 to a scalar is deprecated, and will error in future. Ensure you extract a single element from your array before performing this operation. (Deprecated NumPy 1.25.)\n",
      "  wcrisk_rob[i] = mnews_affine_riskmin(p,d,r,indices,par_mnews,phi_conj,np.array([1/(1-par),0]),np.array([0,1]))[1]\n"
     ]
    },
    {
     "name": "stdout",
     "output_type": "stream",
     "text": [
      "0\n",
      "1\n",
      "2\n",
      "3\n",
      "4\n",
      "5\n",
      "6\n",
      "7\n",
      "8\n"
     ]
    },
    {
     "name": "stderr",
     "output_type": "stream",
     "text": [
      "The PostScript backend does not support transparency; partially transparent artists will be rendered opaque.\n"
     ]
    },
    {
     "name": "stdout",
     "output_type": "stream",
     "text": [
      "9\n"
     ]
    },
    {
     "data": {
      "image/png": "[encoded data removed]",
      "text/plain": [
       "<Figure size 640x480 with 1 Axes>"
      ]
     },
     "metadata": {},
     "output_type": "display_data"
    }
   ],
   "source": [
    "#Nsize = np.arange(10,500,50) ### for alpha_0 = 0.9, 0.8\n",
    "Nsize = np.arange(10,200,20)  ### for alpha_0 = 0.4,0.3\n",
    "L = len(Nsize)\n",
    "wcrisk_rob = np.zeros(L)\n",
    "wcrisk_nom = np.zeros(L)\n",
    "for i in range(L):\n",
    "    r = phi_dot/(2*Nsize[i])*scipy.stats.chi2.ppf(0.95, m-1)    ### determining the radius of the phi-divergence set\n",
    "    wcrisk_rob[i] = mnews_affine_riskmin(p,d,r,indices,par_mnews,phi_conj,np.array([1/(1-par),0]),np.array([0,1]))[1]\n",
    "    res_nom = mnews_affine_riskmin(p,d,0,indices,par_mnews,phi_conj,np.array([1/(1-par),0]),np.array([0,1]))[0]\n",
    "    print(i)\n",
    "    wcrisk_nom[i] = robustcheck_riskmin(res_nom,d,r,p,par,par_mnews,indices,hf.h_cvar_cut, phi.kb_cut)[0]\n",
    "plt.plot(Nsize, wcrisk_rob, label = 'robust solution')\n",
    "plt.plot(Nsize, wcrisk_nom,'--', label = 'nominal solution')\n",
    "plt.xlabel('n', fontsize = 16)\n",
    "plt.ylabel(r'$\\sup_{\\mathbf{q}\\in \\mathcal{D}_{\\phi}(\\mathbf{p},r(n))}\\mathrm{CVaR}_{0.7}(.)$', fontsize = 16)\n",
    "plt.xticks(fontsize=13)  # Set font size for x-axis tick labels\n",
    "\n",
    "y_min, y_max = plt.gca().get_ylim()\n",
    "y_ticks = np.arange(np.floor(y_min), np.ceil(y_max) + 1, 2)  # Ensure integer ticks\n",
    "plt.gca().set_yticks(y_ticks)\n",
    "plt.gca().set_yticklabels([int(tick) for tick in y_ticks], fontsize=13)\n",
    "\n",
    "plt.legend(fontsize = 16)\n",
    "plt.tight_layout()\n",
    "plt.savefig('mnewline03.eps', format = 'eps')"
   ]
  }
 ],
 "metadata": {
  "kernelspec": {
   "display_name": "Python 3 (ipykernel)",
   "language": "python",
   "name": "python3"
  },
  "language_info": {
   "codemirror_mode": {
    "name": "ipython",
    "version": 3
   },
   "file_extension": ".py",
   "mimetype": "text/x-python",
   "name": "python",
   "nbconvert_exporter": "python",
   "pygments_lexer": "ipython3",
   "version": "3.11.9"
  }
 },
 "nbformat": 4,
 "nbformat_minor": 5
}
