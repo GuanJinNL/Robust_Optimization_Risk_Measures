{
 "cells": [
  {
   "cell_type": "markdown",
   "id": "99c1caf1",
   "metadata": {},
   "source": [
    "## Robust Optimization of Single-Item Newsvendor Problem"
   ]
  },
  {
   "cell_type": "markdown",
   "id": "b8ea062b",
   "metadata": {},
   "source": [
    "In the single-item newsvendor problem, a seller is uncertain about the demand of a certain product and has to decide in advance how many units of the product he/she wishes to order. The uncertainty in demand induces a loss, either in unsold items or in unmet demand. Let $d_i$ be the realization of the demand in state $i$. Let $c$ be the cost of one unit of order, $v>c$ be the selling price, $s<c$ be the salvage value per unsold item returned to the order factory, and $l$ be the loss per unit of unmet demand. Denote $y$ to be the number of items ordered. The profit function $\\pi(d_i,y)$ is defined as\n",
    "\\begin{align}\n",
    "    \\pi(d_i,y)&:=v\\min\\{d_i,y\\}+s(y-d_i)_+-l(d_i-y)_+-cy\\nonumber\\\\\n",
    "    &= (s-v)(y-d_i)_+-l(d_i-y)_++(v-c)y.\n",
    "\\end{align}\n",
    "Here, we assume that $d_i\\in \\{4,8,10\\}$ with three possible realizations corresponding to low demand, medium demand, and high demand. The nominal probability of these realizations is assumed to be $\\mathbf{p}=\\{0.375,0.375,0.25\\}$. We assume the number of items ordered will not exceed the maximal demand, i.e., $y\\leq 10$. For the parameter values we take $v=6,l=4,s=2,c=4$"
   ]
  },
  {
   "cell_type": "markdown",
   "id": "fb8f609f",
   "metadata": {},
   "source": [
    "We assume the risk preference of the seller is represented by a risk measure induced by the distortion function $h_{cv}(x)=\\min\\{x/(1-\\alpha_0),1\\}$ and the seller's uncertainty in the probability $\\mathbf{p}$ is measured by the Kullback-Leibler divergence function $\\phi_{kl}(x)=x\\log(x)-x+1$. This leads to the following robust optimization problem, where the worst case risk evaluation is minimized\n",
    "\\begin{align}\n",
    "\\min_{0\\leq y\\leq 10, t\\in \\mathbb{R}}\\{t|\\sup_{(\\mathbf{q},\\mathbf{\\bar{q}})\\in \\mathcal{U}_{\\phi_{kl},h_{cv}}}-\\sum^3_{i=1}\\bar{q}_i\\pi(d_i,y)\\leq t\\},\n",
    "\\end{align}\n",
    "where\n",
    "\n",
    "\\begin{align}\n",
    "\\begin{split}\n",
    "   \\mathcal{U}_{\\phi_{kl},h_{cv}}=\\{(\\mathbf{q},\\bar{\\mathbf{q}})\\in \\mathbb{R}^{6}_{\\geq 0}&: \\sum^3_{i=1} q_i=1,~\\sum^{3}_{i=1} \\bar{q}_i=1,~\\sum^3_{i=1}p_i\\phi_{kl}(\\frac{q_i}{p_i})-r\\leq 0\\\\\n",
    "    &\\bar{q}_1\\leq h_{cv}(q_1),~ \\bar{q}_2\\leq h_{cv}(q_2),~\\bar{q}_3\\leq h_{cv}(q_3)\\\\\n",
    "    &\\bar{q}_1+\\bar{q}_2\\leq h_{cv}(q_1+q_2),~ \\bar{q}_1+\\bar{q}_3\\leq h_{cv}(q_1+q_3),\\bar{q}_2+\\bar{q}_3\\leq h_{cv}(q_2+q_3)\\}.\n",
    "\\end{split}\n",
    "\\end{align}\n"
   ]
  },
  {
   "cell_type": "markdown",
   "id": "ea720914",
   "metadata": {},
   "source": [
    "Using reformulation technique, this robust optimization problem is eqvuialent to the following convex problem with finitely many constraints\n",
    "\\begin{align}\\label{newsvendor:robust}\n",
    "    \\begin{split}\n",
    "      \\min_{\\substack{y\\in[0,10]\\\\ t, \\alpha,\\beta, \\nu_j\\in \\mathbb{R}\\\\ \\gamma,\\lambda_j\\geq 0}}&~t\\\\\n",
    "     \\text{subject to}~\n",
    "        &\\alpha+\\beta+\\gamma r +\\sum^3_{i=1}p_i\\gamma \\phi_{kl}^*\\left(\\frac{-\\alpha+\\sum_{j: i\\in I_j}\\nu_j}{\\gamma}\\right)+\\sum^6_{j=1}\\lambda_j(-h_{cv})^*\\left(\\frac{-\\nu_j}{\\lambda_j}\\right)\\leq t\\\\\n",
    "        &-r(d_i,y)-\\beta-\\sum_{j:i\\in I_j}\\lambda_j\\leq 0,~i=1,2,3,\n",
    "    \\end{split}\n",
    "\\end{align}\n",
    "where $I_1,\\ldots , I_6$ are the subsets of $\\{1,\\ldots,6\\}$ that are not the empty set or the entire set. $\\phi^*_{kl}$ and $h^*_{cv}$ are the convex conjugates of $\\phi_{kl}$ and $h_{cv}$.\n"
   ]
  },
  {
   "cell_type": "markdown",
   "id": "4628064e",
   "metadata": {},
   "source": [
    "We can solve the above problem using CVXPY. First we import the necessary packages."
   ]
  },
  {
   "cell_type": "code",
   "execution_count": 2,
   "id": "51074f6f",
   "metadata": {},
   "outputs": [],
   "source": [
    "import numpy as np\n",
    "import cvxpy as cp\n",
    "import pandas as pd\n",
    "import mosek\n",
    "import matplotlib.pyplot as plt\n",
    "### importing the phi-divergence functions \n",
    "import phi_divergence as phi        \n",
    "### importing the distortion functions\n",
    "import distortion_function as hf    \n",
    "import scipy.stats\n",
    "from itertools import chain, combinations"
   ]
  },
  {
   "cell_type": "markdown",
   "id": "9910514c",
   "metadata": {},
   "source": [
    "The reformulated robust problem can be solved by defining the following functions"
   ]
  },
  {
   "cell_type": "code",
   "execution_count": 3,
   "id": "4a7f44d0",
   "metadata": {},
   "outputs": [],
   "source": [
    "### This function makes all subsets given a number of indices.\n",
    "def powerset(iterable):                     \n",
    "    \"powerset([1,2,3]) --> () (1,) (2,) (3,) (1,2) (1,3) (2,3) (1,2,3)\"\n",
    "    s = list(iterable)\n",
    "    return chain.from_iterable(combinations(s, r) for r in range(len(s)+1))\n",
    "\n",
    "\n",
    " ### This function can solve the reformulated problem\n",
    "def RC_newsvendor_riskmin(sets,p,d,r,par,par_news,phi_conj, h_conj):   \n",
    "    N = len(p)\n",
    "    M = len(sets)\n",
    "    v = cp.Variable(M)\n",
    "    lbda = cp.Variable(M, nonneg = True)\n",
    "    y = cp.Variable(1, nonneg = True)\n",
    "    alpha, beta, c = [cp.Variable(1), cp.Variable(1), cp.Variable(1)]\n",
    "    gamma = cp.Variable(1,nonneg = True)\n",
    "    [v_news, l_news, s_news, c_news] = par_news\n",
    "    z = cp.Variable(M)\n",
    "    t, z2 = [cp.Variable(N), cp.Variable(N)]\n",
    "    s = cp.Variable(N)\n",
    "    w2_phi = cp.Variable(N)\n",
    "    l1 = (v_news+l_news-c_news)*y*(np.zeros(N)+1) - l_news*d\n",
    "    l2 = (s_news-c_news)*y*(np.zeros(N)+1) + (v_news-s_news)*d\n",
    "    constraints = [y<=np.max(d), z2 <= l1, z2 <= l2]\n",
    "    for i in range(N):\n",
    "        lbdasum = 0\n",
    "        vsum = 0\n",
    "        for j in range(M):\n",
    "            if i in sets[j]:\n",
    "                lbdasum = lbdasum + lbda[j]\n",
    "                vsum = vsum + v[j]\n",
    "        constraints.append(-z2[i] - lbdasum - beta <= 0)\n",
    "        constraints.append(s[i] == -alpha + vsum)\n",
    "    constraints = phi_conj(gamma,s,t,w2_phi,constraints)\n",
    "    constraints = h_conj(lbda,v,z,par,constraints)\n",
    "    constraints.append(alpha + beta + gamma * r  + cp.sum(z) + p@t <= c)\n",
    "    obj = cp.Minimize(c)\n",
    "    prob = cp.Problem(obj,constraints)\n",
    "    prob.solve(solver=cp.MOSEK)\n",
    "    return(y.value, c.value)"
   ]
  },
  {
   "cell_type": "markdown",
   "id": "177554b3",
   "metadata": {},
   "source": [
    "To compare the robust solution to the nominal solution, we also solve the nominal problem, where the risk evaluation is minimized with respect to the nominal probability $\\mathbf{p}$\n",
    "\\begin{align*}\n",
    "    \\min_{0\\leq y\\leq 10, t\\in \\mathbb{R}}\\{t|\\sup_{\\mathbf{\\bar{q}}\\in M_h(\\mathbf{p})}-\\sum^3_{i=1}\\bar{q}_i\\pi(d_i,y)\\leq t\\},\n",
    "\\end{align*}\n",
    "where \n",
    "\\begin{align*}\n",
    "    M_h(\\mathbf{p})=\\{\\mathbf{\\bar{q}}\\in \\mathbb{R}^3_{\\geq 0}|~\\sum^3_{i=1}\\bar{q}_i=1, \\sum_{k\\in I_j}\\bar{q}_k\\leq h(\\sum_{k\\in I_j}p_k), I_1,\\ldots,I_6.\\}\n",
    "\\end{align*}\n",
    "Since the set $M_h(\\mathbf{p})$ consists of linear inequalities, the nominal problem can be easily reformulated to the following convex problem\n",
    "\\begin{align*}\n",
    " \\min_{\\substack{y\\in[0,10]\\\\ t,\\beta, \\nu_j\\in \\mathbb{R}\\\\ \\gamma,\\lambda_j\\geq 0}}&~t\\\\\n",
    "     \\text{subject to}~\n",
    "        &\\beta+ \\sum_{j=1}^6\\lambda_jh(\\sum_{k\\in I_j}p_k)\\leq t\\\\\n",
    "        &-r(d_i,y)-\\beta-\\sum_{j:i\\in I_j}\\lambda_j\\leq 0,~i=1,2,3.   \n",
    "\\end{align*}"
   ]
  },
  {
   "cell_type": "code",
   "execution_count": 4,
   "id": "868a26ad",
   "metadata": {},
   "outputs": [],
   "source": [
    "### This function can solve the nominal problem\n",
    "\n",
    "def nominal_solve(sets,p,d,par,par_news, h_eva):\n",
    "    N = len(p)\n",
    "    M = len(sets)\n",
    "    lbda = cp.Variable(M, nonneg = True)\n",
    "    y = cp.Variable(1, nonneg = True)\n",
    "    beta, c = [cp.Variable(1), cp.Variable(1)]\n",
    "    [v_news, l_news, s_news, c_news] = par_news\n",
    "    z2 = cp.Variable(N)\n",
    "    l1 = (v_news+l_news-c_news)*y*(np.zeros(N)+1) - l_news*d\n",
    "    l2 = (s_news-c_news)*y*(np.zeros(N)+1) + (v_news-s_news)*d\n",
    "    constraints = [y<= np.max(d), z2 <= l1, z2 <= l2]\n",
    "    h_jsum = 0\n",
    "    for i in range(N):\n",
    "        lbdasum = 0\n",
    "        for j in range(M):\n",
    "            if i in sets[j]:\n",
    "                lbdasum = lbdasum + lbda[j]\n",
    "        constraints.append(-z2[i] - lbdasum - beta <= 0)\n",
    "    for j in range(M):\n",
    "         h_jsum = h_jsum + lbda[j]*h_eva(np.sum(p[sets[j]]),par)\n",
    "    constraints.append(beta  + h_jsum <= c)\n",
    "    obj = cp.Minimize(c)\n",
    "    prob = cp.Problem(obj,constraints)\n",
    "    prob.solve(solver=cp.MOSEK)\n",
    "    return(y.value, c.value)"
   ]
  },
  {
   "cell_type": "markdown",
   "id": "2a3a5a0a",
   "metadata": {},
   "source": [
    "We perform the following experiment to compare the robust solution to the nominal solution. We choose a range of (fictitious) sample size $n= 10, 20,\\ldots 200$. This sample size is purely artificial: we treat $\\mathbf{p}$ as estimated from a sample of size $n$. We also examine a range of quantile levels $\\alpha_0 = 0.4, 0.3, 0.2, 0.1$ for the distortion risk measure. For both the robust and the nominal solution, we compare their worst case risk evaluation. For the robust solution, the worst case risk evaluation is simply the objective value of the robust problem i.e. the worst case risk evaluation minimization problem. For the nominal solution, the worst case risk evaluation is the objective value of the robust problem evaluated in this solution, which can be calculated by the following function."
   ]
  },
  {
   "cell_type": "code",
   "execution_count": 5,
   "id": "a566d3f3",
   "metadata": {},
   "outputs": [],
   "source": [
    "### This function compute the worst case risk evaluation given a solution y\n",
    "\n",
    "def robustcheck_newsvendor(y,d,r,p,par,par_news,h_func, phi_func):\n",
    "    N = len(p)\n",
    "    x = np.zeros(N)\n",
    "    [v_news, l_news, s_news, c_news] = par_news\n",
    "    for i in range(N):\n",
    "        x[i] = v_news*np.minimum(d[i],y)+s_news*np.maximum(y-d[i],0)-l_news*np.maximum(d[i]-y,0)-c_news*y\n",
    "    rank = np.argsort(x)\n",
    "    q_b = cp.Variable(N, nonneg = True)\n",
    "    q = cp.Variable(N, nonneg=True)\n",
    "    constraints = [cp.sum(q) == 1, cp.sum(q_b)==1]\n",
    "    constraints = h_func(q_b,q,rank,par,constraints)\n",
    "    constraints = phi_func(p,q,r,par,constraints)\n",
    "    obj = cp.Maximize(-q_b.T @ x)\n",
    "    prob = cp.Problem(obj,constraints)\n",
    "    prob.solve(solver=cp.MOSEK)\n",
    "    return(prob.value,q_b.value,q.value)\n",
    "\n",
    "def wc(y,d,r,p,par,par_news, phi_func, sets):\n",
    "    N = len(p)\n",
    "    M = len(sets)\n",
    "    x = np.zeros(N)\n",
    "    [v_news, l_news, s_news, c_news] = par_news\n",
    "    for i in range(N):\n",
    "        x[i] = v_news*np.minimum(d[i],y)+s_news*np.maximum(y-d[i],0)-l_news*np.maximum(d[i]-y,0)-c_news*y\n",
    "    q_b = cp.Variable(N, nonneg = True)\n",
    "    q = cp.Variable(N, nonneg=True)\n",
    "    constraints = [cp.sum(q) == 1, cp.sum(q_b)==1]\n",
    "    constraints = phi_func(p,q,r,par,constraints)\n",
    "    for j in range(M):\n",
    "        q_sum = 0\n",
    "        qb_sum = 0\n",
    "        for i in range(N):\n",
    "            if i in sets[j]:\n",
    "                q_sum = q_sum + q[i]\n",
    "                qb_sum = qb_sum + q_b[i]\n",
    "        h_cons = (1+par)*q_sum-par*(q_sum)**2\n",
    "        constraints.append(qb_sum-h_cons <= 0)\n",
    "    obj = cp.Maximize(-q_b.T @ x)\n",
    "    prob = cp.Problem(obj,constraints)\n",
    "    prob.solve(solver=cp.MOSEK)\n",
    "    return(prob.value,q_b.value,q.value)\n",
    "\n"
   ]
  },
  {
   "cell_type": "markdown",
   "id": "0cbfe5df-4497-45ea-ae89-a21591d9003d",
   "metadata": {},
   "source": [
    "Defining the parameter values of demands, nominal probability, costs, etc. "
   ]
  },
  {
   "cell_type": "code",
   "execution_count": 6,
   "id": "bcaa9b62-45f6-446a-970b-bff6cb0a337a",
   "metadata": {},
   "outputs": [],
   "source": [
    "d = np.array([4,8,10])\n",
    "p = np.array([0.375,0.375,0.25])\n",
    "### parameter values of [v,l,s,c]\n",
    "par_news = np.array([6,4,2,4])    "
   ]
  },
  {
   "cell_type": "markdown",
   "id": "5e6c4b34-5154-4ad6-854a-9232e2837033",
   "metadata": {},
   "source": [
    "Defining the phi-divergence conjugate function, which in this case is the conjugate of kullback-leibler divergence."
   ]
  },
  {
   "cell_type": "code",
   "execution_count": 7,
   "id": "29344b82-305e-41d4-b3f2-2f87ba18083c",
   "metadata": {},
   "outputs": [],
   "source": [
    "### the epigraph of the phi conjugate function\n",
    "phi_conj = phi.kb_conj  \n",
    "### the epigraph of the phi function\n",
    "phi_func = phi.kb_cut   \n",
    "### evaluation of the phi function\n",
    "phi_eva = phi.kb_eva     \n",
    "### phi''_kl(1), second derivative of kl_divergence function evaluated at 1, which is equal to 1.\n",
    "### Note that this has to be calculated by hand, which is usually not hard.\n",
    "phi_dot = 1   \n",
    "\n",
    "### Number of realisations of the demand d, which determines the phi-divergence radius\n",
    "m = len(d)"
   ]
  },
  {
   "cell_type": "markdown",
   "id": "c1cbbcb2-cad3-48a2-baa4-07a524a87063",
   "metadata": {},
   "source": [
    "Similarly, we define the necessary variables for the distortion function"
   ]
  },
  {
   "cell_type": "code",
   "execution_count": 10,
   "id": "d1758742-82fb-4845-b042-421e08687e0e",
   "metadata": {},
   "outputs": [],
   "source": [
    "### the conjugate of the h function writte in its epigraph representation\n",
    "h_conj = hf.h_cvar_conj   \n",
    "### h_eva can be used when we need to evaluate the h function\n",
    "h_eva = hf.h_cvar_eva   \n",
    "### the epigraph of the h function\n",
    "h_func = hf.h_cvar_cut \n",
    "### parameter of the h function, in the h_cv case, this is the quantile parameter\n",
    "par = 0.1  \n",
    "\n",
    "### making all the subsets of {1,...,m} except the empty set and the whole set.\n",
    "psets = list(powerset(list(range(m))))   \n",
    "for i in range(1,len(psets)):\n",
    "    psets[i] = list(psets[i])\n",
    "psets = psets[1:(len(psets)-1)]\n",
    "sets = psets"
   ]
  },
  {
   "cell_type": "markdown",
   "id": "e3122b85",
   "metadata": {},
   "source": [
    "The following code performs the experiment and output the graph of the worst case risk evaluation of the robust and the nominal solutions, with respect to the sample size $n$."
   ]
  },
  {
   "cell_type": "code",
   "execution_count": 11,
   "id": "8313c52d",
   "metadata": {},
   "outputs": [
    {
     "name": "stderr",
     "output_type": "stream",
     "text": [
      "C:\\Users\\gjin\\AppData\\Local\\Temp\\ipykernel_2596\\4155095990.py:7: DeprecationWarning: Conversion of an array with ndim > 0 to a scalar is deprecated, and will error in future. Ensure you extract a single element from your array before performing this operation. (Deprecated NumPy 1.25.)\n",
      "  wcrisk_rob[i] = RC_newsvendor_riskmin(sets,p,d,r,par,par_news,phi_conj, h_conj)[1]\n",
      "C:\\Users\\gjin\\AppData\\Local\\Temp\\ipykernel_2596\\475701882.py:8: DeprecationWarning: Conversion of an array with ndim > 0 to a scalar is deprecated, and will error in future. Ensure you extract a single element from your array before performing this operation. (Deprecated NumPy 1.25.)\n",
      "  x[i] = v_news*np.minimum(d[i],y)+s_news*np.maximum(y-d[i],0)-l_news*np.maximum(d[i]-y,0)-c_news*y\n",
      "The PostScript backend does not support transparency; partially transparent artists will be rendered opaque.\n"
     ]
    },
    {
     "data": {
      "image/png": "[encoded data removed]",
      "text/plain": [
       "<Figure size 640x480 with 1 Axes>"
      ]
     },
     "metadata": {},
     "output_type": "display_data"
    }
   ],
   "source": [
    "nsize = np.arange(10,210,10)\n",
    "L = len(nsize)\n",
    "wcrisk_rob = np.zeros(L)\n",
    "wcrisk_nom = np.zeros(L)\n",
    "for i in range(L):\n",
    "    r = phi_dot/(2*nsize[i])*scipy.stats.chi2.ppf(0.95, m-1)\n",
    "    wcrisk_rob[i] = RC_newsvendor_riskmin(sets,p,d,r,par,par_news,phi_conj, h_conj)[1]\n",
    "    res_nom = nominal_solve(sets,p,d,par,par_news, h_eva)[0]\n",
    "    wcrisk_nom[i] = robustcheck_newsvendor(res_nom,d,r,p,par,par_news,h_func, phi_func)[0]\n",
    "plt.plot(nsize, wcrisk_rob, label = 'robust solution')\n",
    "plt.plot(nsize, wcrisk_nom,'--', label = 'nominal solution')\n",
    "plt.xlabel('n', fontsize = 16)\n",
    "plt.ylabel(r'$\\sup_{\\mathbf{q}\\in \\mathcal{D}_{\\phi}(\\mathbf{p},r(n))}\\mathrm{CVaR}_{0.9}(.)$', fontsize = 16)\n",
    "plt.xticks(fontsize=13)  # Set font size for x-axis tick labels\n",
    "y_min, y_max = plt.gca().get_ylim()\n",
    "y_ticks = np.arange(np.floor(y_min), np.ceil(y_max) + 1, 1)  # Ensure only integer ticks\n",
    "plt.gca().set_yticks(y_ticks)\n",
    "plt.gca().set_yticklabels([int(tick) for tick in y_ticks], fontsize=13)\n",
    "\n",
    "\n",
    "plt.legend(fontsize=16)\n",
    "plt.tight_layout()\n",
    "plt.savefig('s_news01.eps', format='eps')"
   ]
  },
  {
   "cell_type": "markdown",
   "id": "bbea29bb",
   "metadata": {},
   "source": [
    "In the second experiment, we compare the robust solution and the nominal solution by computing its risk evaluation with respect to a sample of probability vectors. We use the Hit-and-Run algorithm to sample 5000 probability vectors $\\mathbf{q}$ in the $\\phi$-divergence uncertainty set $\\mathcal{D}_{\\phi}(\\mathbf{p},r)$ for $n=50$. For each sampled vector $\\mathbf{q}$, we calculate the risk evaluation $\\rho_{h_{cv},\\mathbf{q}}$ for $\\alpha_0=0.4$."
   ]
  },
  {
   "cell_type": "code",
   "execution_count": 45,
   "id": "a8bfb160",
   "metadata": {},
   "outputs": [],
   "source": [
    "import Hit_and_Run as hr \n",
    "\n",
    "#### This function calculates the risk with respect to any probability vector\n",
    "\n",
    "def nominal_risk(y,d,p,par,par_news, h_eva):   \n",
    "    N = len(p)\n",
    "    [v_news, l_news, s_news, c_news] = par_news\n",
    "    x = np.zeros(N)\n",
    "    for i in range(N):\n",
    "        x[i] = v_news*np.minimum(d[i],y)+s_news*np.maximum(y-d[i],0)-l_news*np.maximum(d[i]-y,0)-c_news*y\n",
    "    rank = np.argsort(x)\n",
    "    q_b = np.zeros(N)\n",
    "    q_b[rank[0]] = h_eva(p[rank[0]],par)\n",
    "    risk = -q_b[rank[0]]*x[rank[0]]\n",
    "    for i in range(1,N):\n",
    "        q_b[rank[i]] = h_eva(np.sum(p[rank[0:i+1]]),par)-h_eva(np.sum(p[rank[0:i]]),par)\n",
    "        risk = risk - q_b[rank[i]]*x[rank[i]]\n",
    "    return(risk)"
   ]
  },
  {
   "cell_type": "code",
   "execution_count": 46,
   "id": "0c9b9dc1",
   "metadata": {},
   "outputs": [],
   "source": [
    "np.random.seed(10)\n",
    "n = 50\n",
    "r = phi_dot/(2*n)*scipy.stats.chi2.ppf(0.95, m-1)\n",
    "### simulating the probability vectors in the phi-divergence uncertainty set\n",
    "prob = hr.hit_and_run(p,phi.kb_eva,r,1,5000)  "
   ]
  },
  {
   "cell_type": "markdown",
   "id": "ee796ac1",
   "metadata": {},
   "source": [
    "The following code compute the robust solution and the nominal solution and calculate the risk of both solutions with respect to a sample of probability vectors."
   ]
  },
  {
   "cell_type": "code",
   "execution_count": 47,
   "id": "8bb26d0a",
   "metadata": {},
   "outputs": [
    {
     "name": "stderr",
     "output_type": "stream",
     "text": [
      "C:\\Users\\gjin\\AppData\\Local\\Temp\\ipykernel_19988\\3558743789.py:10: DeprecationWarning: Conversion of an array with ndim > 0 to a scalar is deprecated, and will error in future. Ensure you extract a single element from your array before performing this operation. (Deprecated NumPy 1.25.)\n",
      "  x[i] = v_news*np.minimum(d[i],y)+s_news*np.maximum(y-d[i],0)-l_news*np.maximum(d[i]-y,0)-c_news*y\n"
     ]
    }
   ],
   "source": [
    "### computing the robust solution\n",
    "news_result = RC_newsvendor_riskmin(sets,p,d,r,par,par_news,phi_conj, h_conj)   \n",
    "### Computing the nominal solution\n",
    "news_nom_result = nominal_solve(sets,p,d,par,par_news, h_eva)  \n",
    "\n",
    "\n",
    "l = len(prob)\n",
    "risk_rob = np.zeros(l)\n",
    "risk_nonrob = np.zeros(l)\n",
    "for i in range(l):\n",
    "    risk_rob[i] = nominal_risk(news_result[0],d,prob[i],par,par_news, h_eva)\n",
    "    risk_nonrob[i] = nominal_risk(news_nom_result[0],d,prob[i],par,par_news, h_eva)"
   ]
  },
  {
   "cell_type": "markdown",
   "id": "e058b501",
   "metadata": {},
   "source": [
    "Plotting the graph"
   ]
  },
  {
   "cell_type": "code",
   "execution_count": 48,
   "id": "ea62656f",
   "metadata": {},
   "outputs": [
    {
     "name": "stderr",
     "output_type": "stream",
     "text": [
      "The PostScript backend does not support transparency; partially transparent artists will be rendered opaque.\n"
     ]
    },
    {
     "data": {
      "image/png": "[encoded data removed]",
      "text/plain": [
       "<Figure size 640x480 with 1 Axes>"
      ]
     },
     "metadata": {},
     "output_type": "display_data"
    }
   ],
   "source": [
    "data1 = {'robust solution':risk_rob, 'nominal solution': risk_nonrob}\n",
    "dt1 = pd.DataFrame(data = data1)\n",
    "plt.hist(dt1,density = True, bins = 30)\n",
    "plt.xlabel('$\\mathrm{CVaR}_{0.6}(.)$',fontsize = 16)\n",
    "plt.ylabel('density mass',fontsize = 16)\n",
    "plt.xticks(fontsize=12)  # Set font size for x-axis tick labels\n",
    "plt.yticks(fontsize=12)\n",
    "plt.legend(dt1.columns,fontsize = 14)\n",
    "plt.savefig('snews_cvar04.eps', format = 'eps',bbox_inches='tight')"
   ]
  }
 ],
 "metadata": {
  "kernelspec": {
   "display_name": "Python 3 (ipykernel)",
   "language": "python",
   "name": "python3"
  },
  "language_info": {
   "codemirror_mode": {
    "name": "ipython",
    "version": 3
   },
   "file_extension": ".py",
   "mimetype": "text/x-python",
   "name": "python",
   "nbconvert_exporter": "python",
   "pygments_lexer": "ipython3",
   "version": "3.11.9"
  }
 },
 "nbformat": 4,
 "nbformat_minor": 5
}
